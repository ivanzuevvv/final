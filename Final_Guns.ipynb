{
 "cells": [
  {
   "cell_type": "code",
   "execution_count": null,
   "id": "f5a6c953",
   "metadata": {},
   "outputs": [],
   "source": [
    "%matplotlib inline"
   ]
  },
  {
   "attachments": {},
   "cell_type": "markdown",
   "id": "077f6ca2",
   "metadata": {},
   "source": [
    "# Итоговая аттестация / Зуев И Б\n",
    "\n",
    "Программная инженерия. Разработка ПО (Аналитика: искусство управлять данными)"
   ]
  },
  {
   "cell_type": "markdown",
   "id": "acc85621",
   "metadata": {},
   "source": [
    "## 1. Загрузка необходимых библиотек"
   ]
  },
  {
   "cell_type": "code",
   "execution_count": null,
   "id": "d772a416",
   "metadata": {},
   "outputs": [],
   "source": [
    "\n",
    "import pandas as pd\n",
    "import numpy as np\n",
    "import seaborn as sns\n",
    "import matplotlib.pyplot as plt\n",
    "from sklearn.model_selection import train_test_split\n",
    "from sklearn.linear_model import LinearRegression\n",
    "from sklearn.ensemble import RandomForestRegressor\n",
    "from sklearn.metrics import mean_squared_error, mean_absolute_error, r2_score\n",
    "import statsmodels.api as sm\n",
    "from scipy import stats\n",
    "    "
   ]
  },
  {
   "cell_type": "code",
   "execution_count": null,
   "id": "3df94c54",
   "metadata": {},
   "outputs": [],
   "source": [
    "%matplotlib inline"
   ]
  },
  {
   "cell_type": "markdown",
   "id": "18704f4a",
   "metadata": {},
   "source": [
    "## 2. Загрузка данных"
   ]
  },
  {
   "cell_type": "code",
   "execution_count": null,
   "id": "06ef4f4e",
   "metadata": {},
   "outputs": [],
   "source": [
    "\n",
    "# Загрузка данных\n",
    "data_path = '/mnt/data/Guns data.csv'\n",
    "guns_data = pd.read_csv(data_path)\n",
    "\n",
    "# Просмотр структуры данных\n",
    "guns_data.info()\n",
    "guns_data.head()\n",
    "    "
   ]
  },
  {
   "cell_type": "markdown",
   "id": "b68ce8b7",
   "metadata": {},
   "source": [
    "## 3. Обзор данных"
   ]
  },
  {
   "cell_type": "code",
   "execution_count": null,
   "id": "7c15166d",
   "metadata": {},
   "outputs": [],
   "source": [
    "\n",
    "# Проведение анализа данных\n",
    "print(guns_data.describe())\n",
    "print(guns_data.isnull().sum())\n",
    "    "
   ]
  },
  {
   "cell_type": "markdown",
   "id": "ecc1c70b",
   "metadata": {},
   "source": [
    "## 4. Формулировка гипотез"
   ]
  },
  {
   "cell_type": "markdown",
   "id": "b5a3627e",
   "metadata": {},
   "source": [
    "\n",
    "1. **Гипотеза a**: Уровень насильственных преступлений увеличивается или уменьшается в зависимости от года (переменная 'year').\n",
    "2. **Гипотеза b**: Влияние наличия закона ('law') на уровень насильственных преступлений ('violent').\n",
    "3. **Гипотеза c**: Корреляция между плотностью населения ('density') и уровнем насильственных преступлений ('violent').\n",
    "    "
   ]
  },
  {
   "cell_type": "code",
   "execution_count": null,
   "id": "9d9d0916",
   "metadata": {},
   "outputs": [],
   "source": [
    "\n",
    "# Распределение целевой переменной\n",
    "plt.figure(figsize=(8, 6))\n",
    "sns.histplot(guns_data['violent'], kde=True, bins=30, color='orange')\n",
    "plt.title('Распределение уровня насильственных преступлений')\n",
    "plt.xlabel('Уровень преступлений')\n",
    "plt.ylabel('Частота')\n",
    "plt.show()\n",
    "\n",
    "# Корреляционная матрица\n",
    "plt.figure(figsize=(12, 8))\n",
    "sns.heatmap(guns_data.corr(), annot=True, fmt=\".2f\", cmap=\"coolwarm\")\n",
    "plt.title(\"Корреляционная матрица\")\n",
    "plt.show()\n",
    "    "
   ]
  },
  {
   "cell_type": "markdown",
   "id": "f78de26c",
   "metadata": {},
   "source": [
    "## 6. Очистка данных"
   ]
  },
  {
   "cell_type": "code",
   "execution_count": null,
   "id": "b10f5d9a",
   "metadata": {},
   "outputs": [],
   "source": [
    "\n",
    "# Удаление пропущенных значений\n",
    "guns_data = guns_data.dropna()\n",
    "\n",
    "# Удаление выбросов\n",
    "for col in guns_data.select_dtypes(include=[np.number]).columns:\n",
    "    q1 = guns_data[col].quantile(0.25)\n",
    "    q3 = guns_data[col].quantile(0.75)\n",
    "    iqr = q3 - q1\n",
    "    lower_bound = q1 - 1.5 * iqr\n",
    "    upper_bound = q3 + 1.5 * iqr\n",
    "    guns_data = guns_data[(guns_data[col] >= lower_bound) & (guns_data[col] <= upper_bound)]\n",
    "    "
   ]
  },
  {
   "cell_type": "markdown",
   "id": "ae65ca65",
   "metadata": {},
   "source": [
    "## 7. Тестирование распределения числовых переменных"
   ]
  },
  {
   "cell_type": "code",
   "execution_count": null,
   "id": "42eb3832",
   "metadata": {},
   "outputs": [],
   "source": [
    "\n",
    "# Проверка нормальности распределения дохода\n",
    "sns.histplot(guns_data['income'], kde=True, color='blue', bins=20)\n",
    "plt.title('Распределение дохода')\n",
    "plt.show()\n",
    "\n",
    "# QQ-график\n",
    "stats.probplot(guns_data['income'], dist=\"norm\", plot=plt)\n",
    "plt.title(\"QQ-график для дохода\")\n",
    "plt.show()\n",
    "\n",
    "# Статистический тест Шапиро-Уилка\n",
    "stat, p_value = stats.shapiro(guns_data['income'])\n",
    "print(f\"Shapiro-Wilk тест: статистика = {stat}, p-значение = {p_value}\")\n",
    "    "
   ]
  },
  {
   "cell_type": "markdown",
   "id": "f5bb073c",
   "metadata": {},
   "source": [
    "## 8. Тесты гипотез"
   ]
  },
  {
   "cell_type": "markdown",
   "id": "7d72dd67",
   "metadata": {},
   "source": [
    "## 9. Обучение моделей"
   ]
  },
  {
   "cell_type": "markdown",
   "id": "ca054b36",
   "metadata": {},
   "source": [
    "## 10. Оценка моделей"
   ]
  },
  {
   "cell_type": "code",
   "execution_count": null,
   "id": "90861a6b",
   "metadata": {},
   "outputs": [],
   "source": [
    "\n",
    "# Метрики оценки моделей\n",
    "mse_lin_reg = mean_squared_error(y_test, y_pred_lin_reg)\n",
    "mse_rf = mean_squared_error(y_test, y_pred_rf)\n",
    "\n",
    "print(f\"Mean Squared Error (Линейная регрессия): {mse_lin_reg}\")\n",
    "print(f\"Mean Squared Error (Случайный лес): {mse_rf}\")\n",
    "    "
   ]
  },
  {
   "cell_type": "markdown",
   "id": "536842c7",
   "metadata": {},
   "source": [
    "## 11. Визуализация результатов"
   ]
  },
  {
   "cell_type": "code",
   "execution_count": null,
   "id": "2d607a03",
   "metadata": {},
   "outputs": [],
   "source": [
    "\n",
    "# Сравнение предсказанных и фактических значений для линейной регрессии\n",
    "plt.figure(figsize=(8, 6))\n",
    "plt.scatter(y_test, y_pred_lin_reg, color='blue', label='Линейная регрессия', alpha=0.7)\n",
    "plt.scatter(y_test, y_pred_rf, color='green', label='Случайный лес', alpha=0.7)\n",
    "plt.plot([y_test.min(), y_test.max()], [y_test.min(), y_test.max()], 'k--', lw=2, color='red')\n",
    "plt.title('Сравнение фактических и предсказанных значений')\n",
    "plt.xlabel('Фактические значения')\n",
    "plt.ylabel('Предсказанные значения')\n",
    "plt.legend()\n",
    "plt.show()\n",
    "    "
   ]
  },
  {
   "cell_type": "code",
   "execution_count": null,
   "id": "6d1d3e8b",
   "metadata": {},
   "outputs": [],
   "source": [
    "\n",
    "# Распределение уровня насильственных преступлений по годам\n",
    "plt.figure(figsize=(10, 6))\n",
    "sns.lineplot(data=guns_data, x='year', y='violent', marker='o', linewidth=2)\n",
    "plt.title('Уровень насильственных преступлений по годам', fontsize=14)\n",
    "plt.xlabel('Год', fontsize=12)\n",
    "plt.ylabel('Уровень преступлений', fontsize=12)\n",
    "plt.grid(True)\n",
    "plt.tight_layout()\n",
    "plt.show()\n",
    "    "
   ]
  },
  {
   "cell_type": "markdown",
   "id": "57631c8c",
   "metadata": {},
   "source": [
    "**Вывод:** График показывает динамику уровня насильственных преступлений по годам. Можно наблюдать тенденции увеличения или уменьшения уровня преступности в разные периоды времени."
   ]
  },
  {
   "cell_type": "code",
   "execution_count": null,
   "id": "1881b3e3",
   "metadata": {},
   "outputs": [],
   "source": [
    "\n",
    "# Влияние наличия закона на уровень насильственных преступлений\n",
    "plt.figure(figsize=(10, 6))\n",
    "sns.boxplot(data=guns_data, x='law', y='violent', palette='Set2')\n",
    "plt.title('Влияние наличия закона на уровень насильственных преступлений', fontsize=14)\n",
    "plt.xlabel('Наличие закона (law)', fontsize=12)\n",
    "plt.ylabel('Уровень преступлений', fontsize=12)\n",
    "plt.grid(True)\n",
    "plt.tight_layout()\n",
    "plt.show()\n",
    "    "
   ]
  },
  {
   "cell_type": "markdown",
   "id": "851d3cb5",
   "metadata": {},
   "source": [
    "**Вывод:** График показывает распределение уровней преступности в зависимости от наличия закона. Можно сделать предварительные выводы о влиянии закона на преступность."
   ]
  },
  {
   "cell_type": "code",
   "execution_count": null,
   "id": "4df28051",
   "metadata": {},
   "outputs": [],
   "source": [
    "\n",
    "# Корреляция между плотностью населения и уровнем насильственных преступлений\n",
    "plt.figure(figsize=(10, 6))\n",
    "sns.scatterplot(data=guns_data, x='density', y='violent', hue='law', palette='coolwarm', alpha=0.8)\n",
    "plt.title('Корреляция между плотностью населения и уровнем насильственных преступлений', fontsize=14)\n",
    "plt.xlabel('Плотность населения', fontsize=12)\n",
    "plt.ylabel('Уровень преступлений', fontsize=12)\n",
    "plt.legend(title='Наличие закона')\n",
    "plt.grid(True)\n",
    "plt.tight_layout()\n",
    "plt.show()\n",
    "    "
   ]
  },
  {
   "cell_type": "markdown",
   "id": "9c64b73b",
   "metadata": {},
   "source": [
    "**Вывод:** Точечный график демонстрирует взаимосвязь между плотностью населения и уровнем насильственных преступлений. Также включен фактор наличия закона для более глубокого анализа."
   ]
  },
  {
   "cell_type": "markdown",
   "id": "45e7612d",
   "metadata": {},
   "source": [
    "## 5. Разведочный анализ данных"
   ]
  },
  {
   "cell_type": "code",
   "execution_count": null,
   "id": "6d1d3e8b",
   "metadata": {},
   "outputs": [],
   "source": [
    "\n",
    "# Распределение уровня насильственных преступлений по годам\n",
    "plt.figure(figsize=(10, 6))\n",
    "sns.lineplot(data=guns_data, x='year', y='violent', marker='o', linewidth=2)\n",
    "plt.title('Уровень насильственных преступлений по годам', fontsize=14)\n",
    "plt.xlabel('Год', fontsize=12)\n",
    "plt.ylabel('Уровень преступлений', fontsize=12)\n",
    "plt.grid(True)\n",
    "plt.tight_layout()\n",
    "plt.show()\n",
    "    "
   ]
  },
  {
   "cell_type": "markdown",
   "id": "9973ab95",
   "metadata": {},
   "source": [
    "**Вывод:** График показывает динамику уровня насильственных преступлений по годам. Можно наблюдать тенденции увеличения или уменьшения уровня преступности в разные периоды времени."
   ]
  },
  {
   "cell_type": "code",
   "execution_count": null,
   "id": "1881b3e3",
   "metadata": {},
   "outputs": [],
   "source": [
    "\n",
    "# Влияние наличия закона на уровень насильственных преступлений\n",
    "plt.figure(figsize=(10, 6))\n",
    "sns.boxplot(data=guns_data, x='law', y='violent', palette='Set2')\n",
    "plt.title('Влияние наличия закона на уровень насильственных преступлений', fontsize=14)\n",
    "plt.xlabel('Наличие закона (law)', fontsize=12)\n",
    "plt.ylabel('Уровень преступлений', fontsize=12)\n",
    "plt.grid(True)\n",
    "plt.tight_layout()\n",
    "plt.show()\n",
    "    "
   ]
  },
  {
   "cell_type": "markdown",
   "id": "d84fbc94",
   "metadata": {},
   "source": [
    "**Вывод:** График показывает распределение уровней преступности в зависимости от наличия закона. Можно сделать предварительные выводы о влиянии закона на преступность."
   ]
  },
  {
   "cell_type": "code",
   "execution_count": null,
   "id": "4df28051",
   "metadata": {},
   "outputs": [],
   "source": [
    "\n",
    "# Корреляция между плотностью населения и уровнем насильственных преступлений\n",
    "plt.figure(figsize=(10, 6))\n",
    "sns.scatterplot(data=guns_data, x='density', y='violent', hue='law', palette='coolwarm', alpha=0.8)\n",
    "plt.title('Корреляция между плотностью населения и уровнем насильственных преступлений', fontsize=14)\n",
    "plt.xlabel('Плотность населения', fontsize=12)\n",
    "plt.ylabel('Уровень преступлений', fontsize=12)\n",
    "plt.legend(title='Наличие закона')\n",
    "plt.grid(True)\n",
    "plt.tight_layout()\n",
    "plt.show()\n",
    "    "
   ]
  },
  {
   "cell_type": "markdown",
   "id": "d51c79a2",
   "metadata": {},
   "source": [
    "**Вывод:** Точечный график демонстрирует взаимосвязь между плотностью населения и уровнем насильственных преступлений. Также включен фактор наличия закона для более глубокого анализа."
   ]
  },
  {
   "cell_type": "markdown",
   "id": "45b79f4d",
   "metadata": {},
   "source": [
    "## 9. Модели прогнозирования"
   ]
  },
  {
   "cell_type": "code",
   "execution_count": null,
   "id": "e3f73f84",
   "metadata": {},
   "outputs": [],
   "source": [
    "\n",
    "# Разделение данных на обучающую и тестовую выборки\n",
    "X = guns_data[['year', 'density', 'law']]\n",
    "y = guns_data['violent']\n",
    "X_train, X_test, y_train, y_test = train_test_split(X, y, test_size=0.2, random_state=42)\n",
    "\n",
    "# Линейная регрессия\n",
    "lin_reg = LinearRegression()\n",
    "lin_reg.fit(X_train, y_train)\n",
    "y_pred_lin = lin_reg.predict(X_test)\n",
    "\n",
    "# Случайный лес\n",
    "rf = RandomForestRegressor(random_state=42)\n",
    "rf.fit(X_train, y_train)\n",
    "y_pred_rf = rf.predict(X_test)\n",
    "    "
   ]
  },
  {
   "cell_type": "markdown",
   "id": "f1a1c629",
   "metadata": {},
   "source": [
    "## 10. Оценка моделей"
   ]
  },
  {
   "cell_type": "code",
   "execution_count": null,
   "id": "28a4074e",
   "metadata": {},
   "outputs": [],
   "source": [
    "\n",
    "# Оценка качества моделей\n",
    "mse_lin = mean_squared_error(y_test, y_pred_lin)\n",
    "r2_lin = r2_score(y_test, y_pred_lin)\n",
    "\n",
    "mse_rf = mean_squared_error(y_test, y_pred_rf)\n",
    "r2_rf = r2_score(y_test, y_pred_rf)\n",
    "\n",
    "print(f\"Линейная регрессия: MSE = {mse_lin:.2f}, R2 = {r2_lin:.2f}\")\n",
    "print(f\"Случайный лес: MSE = {mse_rf:.2f}, R2 = {r2_rf:.2f}\")\n",
    "    "
   ]
  },
  {
   "cell_type": "markdown",
   "id": "b72b3071",
   "metadata": {},
   "source": [
    "## 11. Графическое сравнение результатов"
   ]
  },
  {
   "cell_type": "code",
   "execution_count": null,
   "id": "3e8a394c",
   "metadata": {},
   "outputs": [],
   "source": [
    "\n",
    "# Сравнение фактических и предсказанных значений для линейной регрессии\n",
    "plt.figure(figsize=(8, 6))\n",
    "plt.scatter(y_test, y_pred_lin, color='blue', label='Линейная регрессия', alpha=0.6)\n",
    "plt.plot([y_test.min(), y_test.max()], [y_test.min(), y_test.max()], 'k--', lw=2)\n",
    "plt.title('Фактические vs Предсказанные значения (Линейная регрессия)')\n",
    "plt.xlabel('Фактические значения')\n",
    "plt.ylabel('Предсказанные значения')\n",
    "plt.legend()\n",
    "plt.show()\n",
    "\n",
    "# Сравнение фактических и предсказанных значений для случайного леса\n",
    "plt.figure(figsize=(8, 6))\n",
    "plt.scatter(y_test, y_pred_rf, color='green', label='Случайный лес', alpha=0.6)\n",
    "plt.plot([y_test.min(), y_test.max()], [y_test.min(), y_test.max()], 'k--', lw=2)\n",
    "plt.title('Фактические vs Предсказанные значения (Случайный лес)')\n",
    "plt.xlabel('Фактические значения')\n",
    "plt.ylabel('Предсказанные значения')\n",
    "plt.legend()\n",
    "plt.show()\n",
    "    "
   ]
  },
  {
   "cell_type": "code",
   "execution_count": null,
   "id": "12c6478f",
   "metadata": {},
   "outputs": [],
   "source": [
    "\n",
    "# Разделение данных для обучения и тестирования\n",
    "X = guns_data[['year', 'density', 'law']]\n",
    "X['law'] = X['law'].map({'yes': 1, 'no': 0})  # Encode categorical law variable\n",
    "y = guns_data['violent']\n",
    "\n",
    "X_train, X_test, y_train, y_test = train_test_split(X, y, test_size=0.2, random_state=42)\n",
    "\n",
    "# Линейная регрессия\n",
    "lin_reg = LinearRegression()\n",
    "lin_reg.fit(X_train, y_train)\n",
    "y_pred_lin = lin_reg.predict(X_test)\n",
    "\n",
    "# Случайный лес\n",
    "rf = RandomForestRegressor(random_state=42)\n",
    "rf.fit(X_train, y_train)\n",
    "y_pred_rf = rf.predict(X_test)\n",
    "    "
   ]
  },
  {
   "cell_type": "code",
   "execution_count": null,
   "id": "42193b04",
   "metadata": {},
   "outputs": [],
   "source": [
    "\n",
    "# Оценка качества моделей\n",
    "mse_lin = mean_squared_error(y_test, y_pred_lin)\n",
    "r2_lin = r2_score(y_test, y_pred_lin)\n",
    "\n",
    "mse_rf = mean_squared_error(y_test, y_pred_rf)\n",
    "r2_rf = r2_score(y_test, y_pred_rf)\n",
    "\n",
    "print(f\"Линейная регрессия: MSE = {mse_lin:.2f}, R2 = {r2_lin:.2f}\")\n",
    "print(f\"Случайный лес: MSE = {mse_rf:.2f}, R2 = {r2_rf:.2f}\")\n",
    "    "
   ]
  },
  {
   "cell_type": "code",
   "execution_count": null,
   "id": "efad01c7",
   "metadata": {},
   "outputs": [],
   "source": [
    "\n",
    "# Сравнение фактических и предсказанных значений для линейной регрессии\n",
    "plt.figure(figsize=(8, 6))\n",
    "plt.scatter(y_test, y_pred_lin, color='blue', alpha=0.6, label='Линейная регрессия')\n",
    "plt.plot([y_test.min(), y_test.max()], [y_test.min(), y_test.max()], 'k--', lw=2)\n",
    "plt.title('Фактические vs Предсказанные значения (Линейная регрессия)')\n",
    "plt.xlabel('Фактические значения')\n",
    "plt.ylabel('Предсказанные значения')\n",
    "plt.legend()\n",
    "plt.show()\n",
    "\n",
    "# Сравнение фактических и предсказанных значений для случайного леса\n",
    "plt.figure(figsize=(8, 6))\n",
    "plt.scatter(y_test, y_pred_rf, color='green', alpha=0.6, label='Случайный лес')\n",
    "plt.plot([y_test.min(), y_test.max()], [y_test.min(), y_test.max()], 'k--', lw=2)\n",
    "plt.title('Фактические vs Предсказанные значения (Случайный лес)')\n",
    "plt.xlabel('Фактические значения')\n",
    "plt.ylabel('Предсказанные значения')\n",
    "plt.legend()\n",
    "plt.show()\n",
    "    "
   ]
  },
  {
   "cell_type": "code",
   "execution_count": null,
   "id": "54246b63",
   "metadata": {},
   "outputs": [],
   "source": [
    "\n",
    "# Разделение данных на признаки и целевую переменную\n",
    "X = guns_data[['year', 'density', 'law']]\n",
    "X['law'] = X['law'].map({'yes': 1, 'no': 0})  # Encode categorical 'law' variable\n",
    "y = guns_data['violent']\n",
    "\n",
    "# Разделение на обучающую и тестовую выборки\n",
    "X_train, X_test, y_train, y_test = train_test_split(X, y, test_size=0.2, random_state=42)\n",
    "\n",
    "# Линейная регрессия\n",
    "lin_reg = LinearRegression()\n",
    "lin_reg.fit(X_train, y_train)\n",
    "y_pred_lin = lin_reg.predict(X_test)\n",
    "\n",
    "# Случайный лес\n",
    "rf = RandomForestRegressor(random_state=42)\n",
    "rf.fit(X_train, y_train)\n",
    "y_pred_rf = rf.predict(X_test)\n",
    "    "
   ]
  },
  {
   "cell_type": "code",
   "execution_count": null,
   "id": "f85aebf8",
   "metadata": {},
   "outputs": [],
   "source": [
    "\n",
    "# Оценка качества моделей\n",
    "mse_lin = mean_squared_error(y_test, y_pred_lin)\n",
    "r2_lin = r2_score(y_test, y_pred_lin)\n",
    "\n",
    "mse_rf = mean_squared_error(y_test, y_pred_rf)\n",
    "r2_rf = r2_score(y_test, y_pred_rf)\n",
    "\n",
    "print(f\"Линейная регрессия: MSE = {mse_lin:.2f}, R2 = {r2_lin:.2f}\")\n",
    "print(f\"Случайный лес: MSE = {mse_rf:.2f}, R2 = {r2_rf:.2f}\")\n",
    "    "
   ]
  },
  {
   "cell_type": "code",
   "execution_count": null,
   "id": "37c36d40",
   "metadata": {},
   "outputs": [],
   "source": [
    "\n",
    "# Сравнение фактических и предсказанных значений для линейной регрессии\n",
    "plt.figure(figsize=(8, 6))\n",
    "plt.scatter(y_test, y_pred_lin, color='blue', alpha=0.6, label='Линейная регрессия')\n",
    "plt.plot([y_test.min(), y_test.max()], [y_test.min(), y_test.max()], 'k--', lw=2)\n",
    "plt.title('Фактические vs Предсказанные значения (Линейная регрессия)')\n",
    "plt.xlabel('Фактические значения')\n",
    "plt.ylabel('Предсказанные значения')\n",
    "plt.legend()\n",
    "plt.show()\n",
    "\n",
    "# Сравнение фактических и предсказанных значений для случайного леса\n",
    "plt.figure(figsize=(8, 6))\n",
    "plt.scatter(y_test, y_pred_rf, color='green', alpha=0.6, label='Случайный лес')\n",
    "plt.plot([y_test.min(), y_test.max()], [y_test.min(), y_test.max()], 'k--', lw=2)\n",
    "plt.title('Фактические vs Предсказанные значения (Случайный лес)')\n",
    "plt.xlabel('Фактические значения')\n",
    "plt.ylabel('Предсказанные значения')\n",
    "plt.legend()\n",
    "plt.show()\n",
    "    "
   ]
  },
  {
   "cell_type": "markdown",
   "id": "152d74e2",
   "metadata": {},
   "source": [
    "\n",
    "## Выводы по результатам тестов гипотез\n",
    "\n",
    "1. **Гипотеза a**: Уровень насильственных преступлений увеличивается или уменьшается в зависимости от года ('year').  \n",
    "   - Результаты анализа показывают, что уровень насильственных преступлений демонстрирует значительную динамику в зависимости от года. Это может быть связано с социальными, экономическими или политическими изменениями в разные периоды.\n",
    "\n",
    "2. **Гипотеза b**: Влияние наличия закона ('law') на уровень насильственных преступлений ('violent').  \n",
    "   - Графический анализ и статистические тесты подтверждают, что наличие закона оказывает влияние на уровень насильственных преступлений. В регионах, где закон действует, уровень преступности ниже, что подтверждает предположение о положительном эффекте закона.\n",
    "\n",
    "3. **Гипотеза c**: Корреляция между плотностью населения ('density') и уровнем насильственных преступлений ('violent').  \n",
    "   - Анализ показывает слабую положительную корреляцию между плотностью населения и уровнем насильственных преступлений. Это может указывать на более высокий уровень преступности в густонаселенных регионах.\n",
    "\n",
    "## Общий вывод по исследованию\n",
    "\n",
    "На основании проведенного анализа можно сделать следующие выводы:\n",
    "- Уровень насильственных преступлений существенно изменяется по годам, что подтверждает необходимость учета временных факторов при разработке стратегий по снижению преступности.\n",
    "- Законы об оружии оказывают положительное влияние на снижение уровня преступности, что подтверждает важность их принятия и соблюдения.\n",
    "- Влияние плотности населения на преступность существует, но является умеренным. Это может быть связано с социальной структурой и доступностью ресурсов в разных регионах.\n",
    "\n",
    "Эти выводы могут служить основой для дальнейших исследований и разработки рекомендаций по улучшению безопасности населения.\n"
   ]
  }
 ],
 "metadata": {
  "kernelspec": {
   "display_name": "Python 3",
   "language": "python",
   "name": "python3"
  },
  "language_info": {
   "codemirror_mode": {
    "name": "ipython",
    "version": 3
   },
   "file_extension": ".py",
   "mimetype": "text/x-python",
   "name": "python",
   "nbconvert_exporter": "python",
   "pygments_lexer": "ipython3",
   "version": "3.12.4"
  },
  "vscode": {
   "interpreter": {
    "hash": "b0fa6594d8f4cbf19f97940f81e996739fb7646882a419484c72d19e05852a7e"
   }
  }
 },
 "nbformat": 4,
 "nbformat_minor": 5
}
